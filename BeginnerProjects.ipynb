{
 "cells": [
  {
   "cell_type": "markdown",
   "metadata": {},
   "source": [
    "# Beginner projects from the beginner python projects subreddit"
   ]
  },
  {
   "cell_type": "markdown",
   "metadata": {},
   "source": [
    "## Check if over 21 "
   ]
  },
  {
   "cell_type": "code",
   "execution_count": null,
   "metadata": {
    "collapsed": true
   },
   "outputs": [],
   "source": [
    "from datetime import date\n",
    "#From the subreddit for beginner python projects\n",
    "#Goal is to check if the age is above 21.\n",
    "def checkage(bm,bd,by):\n",
    "    if date.today().year-by < 21:\n",
    "        print \"No go bud.\"\n",
    "    elif date.today().year-by > 21:\n",
    "        print \"Welcome!\"\n",
    "    else:\n",
    "        if date.today().month-bm > 0:\n",
    "            print \"Welcome!\"\n",
    "        elif date.today().month-bm < 0:\n",
    "            print \"Not quite yet bud.\"\n",
    "        else:\n",
    "            if date.today().day-bd > 0:\n",
    "                print \"Welcome!\"\n",
    "            elif date.today().day - bd < 0:\n",
    "                print \"So close, but no.\"\n",
    "            else:\n",
    "                print \"Happy birthday! First drink's on the house.\"\n",
    "#For the input I suggest the format, but I allow for a little bit of variation\n",
    "birthday = raw_input(\"Enter your birthday in the form mm/dd/yyyy: \")\n",
    "#To start, if the month is single digit and they don't type in the 0, that's fine\n",
    "#Plus, they way that the input is parsed it doesn't matter what symbol they use, so long as they use a symbol or a space\n",
    "#It does have to be month, day, year though.\n",
    "#The year must be 4 digits. No 2 digit nonsense.\n",
    "\n",
    "if birthday[1] == \"/\" or birthday[1]==\"-\":\n",
    "    month = int(birthday[0])\n",
    "#Same thing if they have a single digit day\n",
    "    if birthday[3] == \"/\" or birthday[3]==\"-\":\n",
    "        day = int(birthday[2])\n",
    "        year = int(birthday[4:8])\n",
    "    else:\n",
    "        day = int(birthday[2:4])\n",
    "        year = int(birthday[5:9])\n",
    "#Check if month was 2 digits, but day was 1\n",
    "elif birthday[4] == \"/\" or birthday[4] == \"-\":\n",
    "    month = int(birthday[0:2])\n",
    "    year = int(birthday[5:9])\n",
    "    day = int(birthday[3])\n",
    "else:\n",
    "    month = int(birthday[0:2])\n",
    "    year = int(birthday[6:10])\n",
    "    day = int(birthday[3:5])\n",
    "\n",
    "checkage(month,day,year)\n"
   ]
  }
 ],
 "metadata": {
  "kernelspec": {
   "display_name": "Python 2",
   "language": "python",
   "name": "python2"
  },
  "language_info": {
   "codemirror_mode": {
    "name": "ipython",
    "version": 2
   },
   "file_extension": ".py",
   "mimetype": "text/x-python",
   "name": "python",
   "nbconvert_exporter": "python",
   "pygments_lexer": "ipython2",
   "version": "2.7.10"
  }
 },
 "nbformat": 4,
 "nbformat_minor": 0
}
