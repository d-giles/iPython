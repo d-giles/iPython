{
 "cells": [
  {
   "cell_type": "markdown",
   "metadata": {},
   "source": [
    "# Title"
   ]
  },
  {
   "cell_type": "code",
   "execution_count": 4,
   "metadata": {
    "collapsed": false
   },
   "outputs": [
    {
     "name": "stdout",
     "output_type": "stream",
     "text": [
      "[2, 4, 6, 8, 10, 12, 14, 16, 18, 20]\n"
     ]
    }
   ],
   "source": [
    "list1 = [i for i in range(1,21) if i%2==0]\n",
    "print list1"
   ]
  },
  {
   "cell_type": "code",
   "execution_count": 3,
   "metadata": {
    "collapsed": false
   },
   "outputs": [
    {
     "name": "stdout",
     "output_type": "stream",
     "text": [
      "[1, 3, 5, 7, 9, 11, 13, 15, 17, 19]\n"
     ]
    }
   ],
   "source": [
    "list2 = [i for i in range(1,21) if i%2 == 1]\n",
    "print list2"
   ]
  },
  {
   "cell_type": "code",
   "execution_count": 6,
   "metadata": {
    "collapsed": false
   },
   "outputs": [
    {
     "name": "stdout",
     "output_type": "stream",
     "text": [
      "524880\n"
     ]
    }
   ],
   "source": [
    "# Example of a class\n",
    "class mathforlists(object):\n",
    "    def __init__(self,thelist):\n",
    "        self.thelist = thelist\n",
    "        \n",
    "    # Example of making a function for a class\n",
    "    def product(self):\n",
    "        total = 1\n",
    "        # Example of a for loop, n is the actual value in the list\n",
    "        for n in self.thelist:\n",
    "            total *= n\n",
    "        return total\n",
    "    def sumlist(self):\n",
    "        total = 0\n",
    "        for n in self.thelist:\n",
    "            total += n\n",
    "        return total\n",
    "\n",
    "# Examples of autopopulating lists using list comprehensions\n",
    "list1 = [i for i in range(1,21) if i % 3 == 0]\n",
    "list2 = [i for i in range(21) if i % 4 == 0]\n",
    "\n",
    "# Instantiating the function made earlier and printing the result.\n",
    "product_of_list1 = mathforlists(list1).product()\n",
    "print product_of_list1"
   ]
  },
  {
   "cell_type": "markdown",
   "metadata": {},
   "source": [
    "## Adding lists together"
   ]
  },
  {
   "cell_type": "code",
   "execution_count": 8,
   "metadata": {
    "collapsed": false
   },
   "outputs": [
    {
     "name": "stdout",
     "output_type": "stream",
     "text": [
      "[1, 2, 3, 4, 5, 6, 7, 8, 9, 10, 11, 12, 13, 14, 15, 16, 17, 18, 19, 20]\n"
     ]
    }
   ],
   "source": [
    "list3 = list1+list2\n",
    "list3.sort()\n",
    "print list3"
   ]
  },
  {
   "cell_type": "markdown",
   "metadata": {},
   "source": [
    "# #Scikit-learn stuff"
   ]
  },
  {
   "cell_type": "code",
   "execution_count": 42,
   "metadata": {
    "collapsed": false
   },
   "outputs": [
    {
     "name": "stdout",
     "output_type": "stream",
     "text": [
      "[8 4 1 7 7 7 5 1 0 0 2 2 7 8 2 0 1 2 6 8 8 7 5 8 4 6 6 6 4 5 8 5 0 5 9 2 8\n",
      " 2 0 0 7 7 6 3 2 1 7 4 6 3 8 3 5 1 7 6 8 4 5 1 4 0 9 3 6 5 6 8 7 9 4 4 7 2\n",
      " 8 2 2 9 7 5 5 4 8 8 4 5 0 8 9 8]\n",
      "[8 4 1 7 7 3 5 1 0 0 2 2 7 8 2 0 1 2 6 3 3 7 3 3 4 6 6 6 4 9 1 5 0 9 5 2 8\n",
      " 2 0 0 1 7 6 3 2 1 7 4 6 3 1 3 9 1 7 6 8 4 3 1 4 0 5 3 6 9 6 1 7 5 4 4 7 2\n",
      " 8 2 2 5 7 9 5 4 8 8 4 9 0 8 9 8]\n"
     ]
    }
   ],
   "source": [
    "from sklearn import datasets, svm\n",
    "import matplotlib.pyplot as plt\n",
    "import pylab as pl\n",
    "import numpy as np\n",
    "\n",
    "digits = datasets.load_digits()\n",
    "iris = datasets.load_iris()\n",
    "iris_X = iris.data\n",
    "iris_y = iris.target\n",
    "np.unique(iris_y)\n",
    "digits.images.shape\n",
    "data = digits.images.reshape((digits.images.shape[0],-1))\n",
    "clf = svm.SVC(gamma=0.001,C=100)\n",
    "n=digits.images.shape[0]\n",
    "clf.fit(data[:20], digits.target[:20])\n",
    "print(clf.predict(data[-n/20:]))\n",
    "print(digits.target[-n/20:])"
   ]
  },
  {
   "cell_type": "code",
   "execution_count": 38,
   "metadata": {
    "collapsed": false
   },
   "outputs": [
    {
     "data": {
      "text/plain": [
       "array([0, 1, 2])"
      ]
     },
     "execution_count": 38,
     "metadata": {},
     "output_type": "execute_result"
    }
   ],
   "source": [
    "from sklearn import datasets, svm\n",
    "import matplotlib.pyplot as plt\n",
    "import pylab as pl\n",
    "import numpy as np\n",
    "\n",
    "digits = datasets.load_digits()\n",
    "iris = datasets.load_iris()\n",
    "iris_X = iris.data\n",
    "iris_y = iris.target\n"
   ]
  },
  {
   "cell_type": "code",
   "execution_count": null,
   "metadata": {
    "collapsed": true
   },
   "outputs": [],
   "source": []
  }
 ],
 "metadata": {
  "kernelspec": {
   "display_name": "Python 2",
   "language": "python",
   "name": "python2"
  },
  "language_info": {
   "codemirror_mode": {
    "name": "ipython",
    "version": 2
   },
   "file_extension": ".py",
   "mimetype": "text/x-python",
   "name": "python",
   "nbconvert_exporter": "python",
   "pygments_lexer": "ipython2",
   "version": "2.7.10"
  }
 },
 "nbformat": 4,
 "nbformat_minor": 0
}
